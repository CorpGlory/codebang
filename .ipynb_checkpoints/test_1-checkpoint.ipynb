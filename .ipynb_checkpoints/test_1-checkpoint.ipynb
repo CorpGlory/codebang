{
 "cells": [
  {
   "cell_type": "code",
   "execution_count": 9,
   "metadata": {},
   "outputs": [],
   "source": [
    "E_0 = -50\n",
    "v_0 = 10\n",
    "d_t = 0.0000001\n",
    "p_0 = 3"
   ]
  },
  {
   "cell_type": "code",
   "execution_count": 4,
   "metadata": {},
   "outputs": [],
   "source": [
    "def find_speed_b(v_1, E, p, d_t):\n",
    "    return v_1 + 2 * d_t * (E / p)"
   ]
  },
  {
   "cell_type": "code",
   "execution_count": 10,
   "metadata": {},
   "outputs": [
    {
     "name": "stdout",
     "output_type": "stream",
     "text": [
      "9.999996666666666\n"
     ]
    }
   ],
   "source": [
    "v_b = find_speed_b(v_0, E_0, p_0, d_t)\n",
    "print(v_b)"
   ]
  },
  {
   "cell_type": "code",
   "execution_count": 11,
   "metadata": {},
   "outputs": [],
   "source": [
    "def find_speed_for_n_plus_0_5(v_lust, d_t, E_n, E_n_i_minus_05, p_n_05):\n",
    "    v_n_plus_05 = v_lust + 2 * d_t * (E_n - E_n_i_minus_05) / p_n_05\n",
    "    return v_n_plus_05"
   ]
  },
  {
   "cell_type": "code",
   "execution_count": 14,
   "metadata": {},
   "outputs": [
    {
     "data": {
      "text/plain": [
       "9.999996666666666"
      ]
     },
     "execution_count": 14,
     "metadata": {},
     "output_type": "execute_result"
    }
   ],
   "source": [
    "v_b = find_speed_for_n_plus_0_5(v_0, d_t, E_0, 0, p_0)\n",
    "v_b"
   ]
  },
  {
   "cell_type": "code",
   "execution_count": null,
   "metadata": {},
   "outputs": [],
   "source": [
    "def  \n",
    "delta_x = v_n_plus_05 * "
   ]
  }
 ],
 "metadata": {
  "kernelspec": {
   "display_name": "Python 3",
   "language": "python",
   "name": "python3"
  },
  "language_info": {
   "codemirror_mode": {
    "name": "ipython",
    "version": 3
   },
   "file_extension": ".py",
   "mimetype": "text/x-python",
   "name": "python",
   "nbconvert_exporter": "python",
   "pygments_lexer": "ipython3",
   "version": "3.6.5"
  }
 },
 "nbformat": 4,
 "nbformat_minor": 2
}
