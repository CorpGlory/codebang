{
 "cells": [
  {
   "cell_type": "markdown",
   "metadata": {},
   "source": [
    "## Numerical method\n",
    "\n",
    "Here we will solve few problems by numerical method using Lagrangian grid which deformed and moved together with system.\n",
    "We will use Wilkins Method."
   ]
  },
  {
   "cell_type": "markdown",
   "metadata": {},
   "source": [
    "### Numerical implementation of boundary conditions\n",
    "\n",
    "#### Basics of the system\n",
    "Lets consider tho slabs collision problem. Suppose slabs have areas $AB$ and $CD$ on $x$ axes:\n",
    "\n",
    "<img src=\"https://user-images.githubusercontent.com/1022757/50425615-098a1a00-088c-11e9-86ef-94f645ba72bf.png\" width=\"500\">\n",
    "\n",
    "we call $A$, $B$, $C$ and $D$ *side bars*\n",
    "\n",
    "We mark here and following formulas in varible $v^n_i$ top index $n$ as time and $i$ as index of *inner bars* in the grid.\n",
    "\n",
    "<img src=\"https://user-images.githubusercontent.com/1022757/50425859-c7fb6e00-088f-11e9-9705-7dd56e15c6e1.png\" width=\"500\">\n",
    "\n",
    "*Bar* has always integer index $k$ and *node* has index $k\\pm1/2$\n",
    "\n",
    "For *inner bars* we will use:\n",
    "\n",
    "for speeds:\n",
    "$\\begin{align}\n",
    "v^{n+1/2}_{i} = v^{n-1/2}_{i} + 2 \\Delta t \\frac{\\Sigma^n_{i+1/2} - \\Sigma^n_{i-1/2}}{\\phi^n_{i+1/2} + \\phi^n_{i - 1/2}}\n",
    "\\end{align}$\n",
    "\n",
    "for positions:\n",
    "$\\begin{align}\n",
    "x^{n+1}_i = x^{n}_i + \\Delta t v^{n+1/2}_i \\\\\n",
    "\\end{align}$\n",
    "\n",
    "where $\\Delta t$ is time step; $\\phi^n_{i+1/2} = \\rho^n_{i+1/2}(x^n_{i+1} - x^n_{i})$ where $\\rho$ is density.\n",
    "\n",
    "We suppose that all values of all variables are know for moment $t^n$ and before it. \n",
    "\n",
    "\n",
    "\n",
    "\n",
    "\n"
   ]
  },
  {
   "cell_type": "markdown",
   "metadata": {},
   "source": [
    "#### Collision\n",
    "\n",
    "Slabs collide at moment $t^n$, we merge $B$ and $C$ and set following: $\\Sigma_B = \\Sigma_C$, where $\\Sigma$ is tension.\n",
    "\n",
    "Boundary conditions for the *side bar*s we find at moment $t^n$ as follows. Let's add a *mock node* $i - 1/2$ with *bars* $i - 1$ and $i$ which we will use only for computations. \n",
    "This *mock node* we place to the left corner of the right stab.\n",
    "\n",
    "\n",
    "<img src=\"https://user-images.githubusercontent.com/1022757/50426728-b83b5400-08a6-11e9-8ac0-2e7d92658aa0.png\" width=\"450\">\n",
    "\n",
    "And we suposse following for the *mock node*:\n",
    "\n",
    "$\\begin{align}\n",
    "\\Sigma^n_{i-1/2} = 0 ; \\phi^n_{i-1/2} = 0\n",
    "\\end{align}$"
   ]
  },
  {
   "cell_type": "code",
   "execution_count": null,
   "metadata": {},
   "outputs": [],
   "source": []
  }
 ],
 "metadata": {
  "kernelspec": {
   "display_name": "Python 3",
   "language": "python",
   "name": "python3"
  },
  "language_info": {
   "codemirror_mode": {
    "name": "ipython",
    "version": 3
   },
   "file_extension": ".py",
   "mimetype": "text/x-python",
   "name": "python",
   "nbconvert_exporter": "python",
   "pygments_lexer": "ipython3",
   "version": "3.6.5"
  }
 },
 "nbformat": 4,
 "nbformat_minor": 2
}
