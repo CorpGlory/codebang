{
 "cells": [
  {
   "cell_type": "markdown",
   "metadata": {},
   "source": [
    "# Collision speed computation\n"
   ]
  },
  {
   "cell_type": "markdown",
   "metadata": {},
   "source": [
    "We will use following equations everywhere\n",
    "\n",
    "#### Mass:\n",
    "\n",
    "$\\begin{align}\n",
    "\\frac{1}{\\rho} \\frac{\\partial \\rho }{\\partial t} = - \\frac{ \\partial V } {\\partial x} \\\\\n",
    "\\end{align}$\n",
    "\n",
    "#### Momentum conservation\n",
    "\n",
    "$\\begin{align}\n",
    "\\frac{\\partial V}{\\partial t} = \\frac{1}{\\rho} \\frac{\\partial(\\sigma + s)}{\\partial x}\n",
    "\\end{align}$"
   ]
  },
  {
   "cell_type": "markdown",
   "metadata": {},
   "source": [
    "$\\begin{align}\n",
    "V_B^{n + 1/2}\n",
    "\\end{align}$"
   ]
  },
  {
   "cell_type": "code",
   "execution_count": null,
   "metadata": {},
   "outputs": [],
   "source": [
    "BASE_SPEED = 10"
   ]
  },
  {
   "cell_type": "code",
   "execution_count": null,
   "metadata": {},
   "outputs": [],
   "source": []
  },
  {
   "cell_type": "code",
   "execution_count": null,
   "metadata": {},
   "outputs": [],
   "source": []
  }
 ],
 "metadata": {
  "kernelspec": {
   "display_name": "Python 3",
   "language": "python",
   "name": "python3"
  },
  "language_info": {
   "codemirror_mode": {
    "name": "ipython",
    "version": 3
   },
   "file_extension": ".py",
   "mimetype": "text/x-python",
   "name": "python",
   "nbconvert_exporter": "python",
   "pygments_lexer": "ipython3",
   "version": "3.6.5"
  }
 },
 "nbformat": 4,
 "nbformat_minor": 2
}
